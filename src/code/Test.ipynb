{
 "cells": [
  {
   "cell_type": "code",
   "execution_count": 1,
   "id": "d0b085ca",
   "metadata": {},
   "outputs": [],
   "source": [
    "import sys\n",
    "sys.path.append('\\\\Users\\\\sahil\\\\code\\\\Testing\\\\NN')\n",
    "from lib import draw_dot\n",
    "from lib import MLP"
   ]
  },
  {
   "cell_type": "code",
   "execution_count": 2,
   "id": "1e65edf0",
   "metadata": {},
   "outputs": [],
   "source": [
    "#Testing MLP on test data\n",
    "xs = [\n",
    "  [2.0, 3.0, -1.0],\n",
    "  [3.0, -1.0, 0.5],\n",
    "  [0.5, 1.0, 1.0],\n",
    "  [1.0, 1.0, -1.0],\n",
    "]\n",
    "ys = [1.0, -1.0, -1.0, 1.0] # desired targets"
   ]
  },
  {
   "cell_type": "code",
   "execution_count": 3,
   "id": "c9be71ae",
   "metadata": {},
   "outputs": [],
   "source": [
    "NN = MLP(3,[4,4,1])"
   ]
  },
  {
   "cell_type": "code",
   "execution_count": 154,
   "id": "398eacb0",
   "metadata": {},
   "outputs": [
    {
     "name": "stdout",
     "output_type": "stream",
     "text": [
      "0 Value(data=9.684883743744414e-05)\n",
      "1 Value(data=9.684392937709936e-05)\n",
      "2 Value(data=9.68390218134084e-05)\n",
      "3 Value(data=9.683411474628466e-05)\n",
      "4 Value(data=9.682920817566467e-05)\n",
      "5 Value(data=9.682430210146268e-05)\n",
      "6 Value(data=9.681939652360809e-05)\n",
      "7 Value(data=9.681449144202503e-05)\n",
      "8 Value(data=9.68095868566412e-05)\n",
      "9 Value(data=9.680468276737876e-05)\n",
      "10 Value(data=9.679977917415778e-05)\n",
      "11 Value(data=9.679487607691199e-05)\n",
      "12 Value(data=9.678997347556078e-05)\n",
      "13 Value(data=9.678507137003053e-05)\n",
      "14 Value(data=9.678016976024363e-05)\n",
      "15 Value(data=9.677526864613185e-05)\n",
      "16 Value(data=9.677036802761428e-05)\n",
      "17 Value(data=9.676546790461673e-05)\n",
      "18 Value(data=9.6760568277064e-05)\n",
      "19 Value(data=9.675566914488259e-05)\n"
     ]
    }
   ],
   "source": [
    "for i in range(20):\n",
    "    #forward pass\n",
    "    pred=[NN(x) for x in xs]\n",
    "    #calculate loss\n",
    "    loss = sum((yout - ygt)**2 for ygt, yout in zip(ys, pred))\n",
    "    \n",
    "    #backward pass\n",
    "    for p in NN.parameters():\n",
    "        p.grad = 0 #changing all grad to 0 to avoid abrupt changes due to accumulation of grads\n",
    "    loss.backward()\n",
    "    \n",
    "    #Change weights a little\n",
    "    for p in NN.parameters():\n",
    "        p.data += -0.01*p.grad\n",
    "    \n",
    "    print(i , loss)"
   ]
  },
  {
   "cell_type": "code",
   "execution_count": 155,
   "id": "08d52afd",
   "metadata": {},
   "outputs": [
    {
     "data": {
      "text/plain": [
       "[Value(data=0.9967047035386309),\n",
       " Value(data=-0.9953858542316542),\n",
       " Value(data=-0.9930975186233492),\n",
       " Value(data=0.9958814929828862)]"
      ]
     },
     "execution_count": 155,
     "metadata": {},
     "output_type": "execute_result"
    }
   ],
   "source": [
    "pred"
   ]
  },
  {
   "cell_type": "code",
   "execution_count": 157,
   "id": "e7771fda",
   "metadata": {},
   "outputs": [
    {
     "data": {
      "text/plain": [
       "'TestNN(3,[441]).png'"
      ]
     },
     "execution_count": 157,
     "metadata": {},
     "output_type": "execute_result"
    }
   ],
   "source": [
    "a=draw_dot(loss)\n",
    "a.render('TestNN(3,[441])',format='png')"
   ]
  }
 ],
 "metadata": {
  "kernelspec": {
   "display_name": "Python 3 (ipykernel)",
   "language": "python",
   "name": "python3"
  },
  "language_info": {
   "codemirror_mode": {
    "name": "ipython",
    "version": 3
   },
   "file_extension": ".py",
   "mimetype": "text/x-python",
   "name": "python",
   "nbconvert_exporter": "python",
   "pygments_lexer": "ipython3",
   "version": "3.11.1"
  }
 },
 "nbformat": 4,
 "nbformat_minor": 5
}
